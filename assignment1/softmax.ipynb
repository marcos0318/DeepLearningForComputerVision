{
 "cells": [
  {
   "cell_type": "markdown",
   "metadata": {},
   "source": [
    "# Softmax exercise\n",
    "\n",
    "*Complete and hand in this completed worksheet (including its outputs and any supporting code outside of the worksheet) with your assignment submission. For more details see the [assignments page](http://vision.stanford.edu/teaching/cs231n/assignments.html) on the course website.*\n",
    "\n",
    "This exercise is analogous to the SVM exercise. You will:\n",
    "\n",
    "- implement a fully-vectorized **loss function** for the Softmax classifier\n",
    "- implement the fully-vectorized expression for its **analytic gradient**\n",
    "- **check your implementation** with numerical gradient\n",
    "- use a validation set to **tune the learning rate and regularization** strength\n",
    "- **optimize** the loss function with **SGD**\n",
    "- **visualize** the final learned weights\n"
   ]
  },
  {
   "cell_type": "code",
   "execution_count": 1,
   "metadata": {},
   "outputs": [],
   "source": [
    "import random\n",
    "import numpy as np\n",
    "from cs231n.data_utils import load_CIFAR10\n",
    "import matplotlib.pyplot as plt\n",
    "\n",
    "from __future__ import print_function\n",
    "\n",
    "%matplotlib inline\n",
    "plt.rcParams['figure.figsize'] = (10.0, 8.0) # set default size of plots\n",
    "plt.rcParams['image.interpolation'] = 'nearest'\n",
    "plt.rcParams['image.cmap'] = 'gray'\n",
    "\n",
    "# for auto-reloading extenrnal modules\n",
    "# see http://stackoverflow.com/questions/1907993/autoreload-of-modules-in-ipython\n",
    "%load_ext autoreload\n",
    "%autoreload 2"
   ]
  },
  {
   "cell_type": "code",
   "execution_count": 2,
   "metadata": {},
   "outputs": [
    {
     "name": "stdout",
     "output_type": "stream",
     "text": [
      "Train data shape:  (49000, 3073)\n",
      "Train labels shape:  (49000,)\n",
      "Validation data shape:  (1000, 3073)\n",
      "Validation labels shape:  (1000,)\n",
      "Test data shape:  (1000, 3073)\n",
      "Test labels shape:  (1000,)\n",
      "dev data shape:  (500, 3073)\n",
      "dev labels shape:  (500,)\n"
     ]
    }
   ],
   "source": [
    "def get_CIFAR10_data(num_training=49000, num_validation=1000, num_test=1000, num_dev=500):\n",
    "    \"\"\"\n",
    "    Load the CIFAR-10 dataset from disk and perform preprocessing to prepare\n",
    "    it for the linear classifier. These are the same steps as we used for the\n",
    "    SVM, but condensed to a single function.  \n",
    "    \"\"\"\n",
    "    # Load the raw CIFAR-10 data\n",
    "    cifar10_dir = 'cs231n/datasets/cifar-10-batches-py'\n",
    "    X_train, y_train, X_test, y_test = load_CIFAR10(cifar10_dir)\n",
    "    \n",
    "    # subsample the data\n",
    "    mask = list(range(num_training, num_training + num_validation))\n",
    "    X_val = X_train[mask]\n",
    "    y_val = y_train[mask]\n",
    "    mask = list(range(num_training))\n",
    "    X_train = X_train[mask]\n",
    "    y_train = y_train[mask]\n",
    "    mask = list(range(num_test))\n",
    "    X_test = X_test[mask]\n",
    "    y_test = y_test[mask]\n",
    "    mask = np.random.choice(num_training, num_dev, replace=False)\n",
    "    X_dev = X_train[mask]\n",
    "    y_dev = y_train[mask]\n",
    "    \n",
    "    # Preprocessing: reshape the image data into rows\n",
    "    X_train = np.reshape(X_train, (X_train.shape[0], -1))\n",
    "    X_val = np.reshape(X_val, (X_val.shape[0], -1))\n",
    "    X_test = np.reshape(X_test, (X_test.shape[0], -1))\n",
    "    X_dev = np.reshape(X_dev, (X_dev.shape[0], -1))\n",
    "    \n",
    "    # Normalize the data: subtract the mean image\n",
    "    mean_image = np.mean(X_train, axis = 0)\n",
    "    X_train -= mean_image\n",
    "    X_val -= mean_image\n",
    "    X_test -= mean_image\n",
    "    X_dev -= mean_image\n",
    "    \n",
    "    # add bias dimension and transform into columns\n",
    "    X_train = np.hstack([X_train, np.ones((X_train.shape[0], 1))])\n",
    "    X_val = np.hstack([X_val, np.ones((X_val.shape[0], 1))])\n",
    "    X_test = np.hstack([X_test, np.ones((X_test.shape[0], 1))])\n",
    "    X_dev = np.hstack([X_dev, np.ones((X_dev.shape[0], 1))])\n",
    "    \n",
    "    return X_train, y_train, X_val, y_val, X_test, y_test, X_dev, y_dev\n",
    "\n",
    "\n",
    "# Invoke the above function to get our data.\n",
    "X_train, y_train, X_val, y_val, X_test, y_test, X_dev, y_dev = get_CIFAR10_data()\n",
    "print('Train data shape: ', X_train.shape)\n",
    "print('Train labels shape: ', y_train.shape)\n",
    "print('Validation data shape: ', X_val.shape)\n",
    "print('Validation labels shape: ', y_val.shape)\n",
    "print('Test data shape: ', X_test.shape)\n",
    "print('Test labels shape: ', y_test.shape)\n",
    "print('dev data shape: ', X_dev.shape)\n",
    "print('dev labels shape: ', y_dev.shape)"
   ]
  },
  {
   "cell_type": "markdown",
   "metadata": {},
   "source": [
    "## Softmax Classifier\n",
    "\n",
    "Your code for this section will all be written inside **cs231n/classifiers/softmax.py**. \n"
   ]
  },
  {
   "cell_type": "code",
   "execution_count": 3,
   "metadata": {},
   "outputs": [
    {
     "name": "stdout",
     "output_type": "stream",
     "text": [
      "loss: 2.387857\n",
      "sanity check: 2.302585\n"
     ]
    }
   ],
   "source": [
    "# First implement the naive softmax loss function with nested loops.\n",
    "# Open the file cs231n/classifiers/softmax.py and implement the\n",
    "# softmax_loss_naive function.\n",
    "\n",
    "from cs231n.classifiers.softmax import softmax_loss_naive\n",
    "import time\n",
    "\n",
    "# Generate a random softmax weight matrix and use it to compute the loss.\n",
    "W = np.random.randn(3073, 10) * 0.0001\n",
    "loss, grad = softmax_loss_naive(W, X_dev, y_dev, 0.0)\n",
    "\n",
    "# As a rough sanity check, our loss should be something close to -log(0.1).\n",
    "print('loss: %f' % loss)\n",
    "print('sanity check: %f' % (-np.log(0.1)))"
   ]
  },
  {
   "cell_type": "markdown",
   "metadata": {},
   "source": [
    "## Inline Question 1:\n",
    "Why do we expect our loss to be close to -log(0.1)? Explain briefly.**\n",
    "\n",
    "**Your answer:** \n",
    "** This is because the weights is randomly initialize, the prediction is basically random guess. The probability of random guess a correct result should be 1/10 since there are totally 10 cases. Then the prob is taken negative-log, so we get around -log(1/10)**\n"
   ]
  },
  {
   "cell_type": "code",
   "execution_count": 11,
   "metadata": {},
   "outputs": [
    {
     "name": "stdout",
     "output_type": "stream",
     "text": [
      "numerical: -2.072437 analytic: -2.072437, relative error: 1.843022e-08\n",
      "numerical: -0.008348 analytic: -0.008348, relative error: 1.566729e-07\n",
      "numerical: 0.286045 analytic: 0.286045, relative error: 9.012672e-08\n",
      "numerical: 0.939175 analytic: 0.939175, relative error: 1.093704e-07\n",
      "numerical: 0.705920 analytic: 0.705920, relative error: 7.210416e-08\n",
      "numerical: 1.301995 analytic: 1.301995, relative error: 9.235874e-09\n",
      "numerical: -0.566884 analytic: -0.566884, relative error: 6.663053e-08\n",
      "numerical: 2.912217 analytic: 2.912217, relative error: 1.317450e-08\n",
      "numerical: 2.889445 analytic: 2.889444, relative error: 3.062215e-08\n",
      "numerical: -1.565201 analytic: -1.565201, relative error: 5.261532e-10\n",
      "numerical: 1.463777 analytic: 1.463777, relative error: 2.275217e-09\n",
      "numerical: 1.153600 analytic: 1.153600, relative error: 2.887032e-08\n",
      "numerical: -4.418233 analytic: -4.418233, relative error: 3.146106e-10\n",
      "numerical: -0.591505 analytic: -0.591505, relative error: 6.430525e-08\n",
      "numerical: 2.129809 analytic: 2.129809, relative error: 4.774457e-08\n",
      "numerical: 0.488380 analytic: 0.488380, relative error: 6.098196e-08\n",
      "numerical: 1.602963 analytic: 1.602962, relative error: 4.026752e-08\n",
      "numerical: -0.683183 analytic: -0.683183, relative error: 1.387529e-08\n",
      "numerical: -2.626402 analytic: -2.626402, relative error: 1.026823e-08\n",
      "numerical: -0.145904 analytic: -0.145904, relative error: 9.401608e-08\n"
     ]
    }
   ],
   "source": [
    "# Complete the implementation of softmax_loss_naive and implement a (naive)\n",
    "# version of the gradient that uses nested loops.\n",
    "loss, grad = softmax_loss_naive(W, X_dev, y_dev, 0.0)\n",
    "\n",
    "# As we did for the SVM, use numeric gradient checking as a debugging tool.\n",
    "# The numeric gradient should be close to the analytic gradient.\n",
    "from cs231n.gradient_check import grad_check_sparse\n",
    "f = lambda w: softmax_loss_naive(w, X_dev, y_dev, 0.0)[0]\n",
    "grad_numerical = grad_check_sparse(f, W, grad, 10)\n",
    "\n",
    "# similar to SVM case, do another gradient check with regularization\n",
    "loss, grad = softmax_loss_naive(W, X_dev, y_dev, 5e1)\n",
    "f = lambda w: softmax_loss_naive(w, X_dev, y_dev, 5e1)[0]\n",
    "grad_numerical = grad_check_sparse(f, W, grad, 10)"
   ]
  },
  {
   "cell_type": "code",
   "execution_count": 13,
   "metadata": {},
   "outputs": [
    {
     "name": "stdout",
     "output_type": "stream",
     "text": [
      "naive loss: 2.331019e+00 computed in 0.192093s\n",
      "vectorized loss: 2.331019e+00 computed in 0.001471s\n",
      "Loss difference: 0.000000\n",
      "Gradient difference: 0.000000\n"
     ]
    }
   ],
   "source": [
    "# Now that we have a naive implementation of the softmax loss function and its gradient,\n",
    "# implement a vectorized version in softmax_loss_vectorized.\n",
    "# The two versions should compute the same results, but the vectorized version should be\n",
    "# much faster.\n",
    "tic = time.time()\n",
    "loss_naive, grad_naive = softmax_loss_naive(W, X_dev, y_dev, 0.000005)\n",
    "toc = time.time()\n",
    "print('naive loss: %e computed in %fs' % (loss_naive, toc - tic))\n",
    "\n",
    "from cs231n.classifiers.softmax import softmax_loss_vectorized\n",
    "tic = time.time()\n",
    "loss_vectorized, grad_vectorized = softmax_loss_vectorized(W, X_dev, y_dev, 0.000005)\n",
    "toc = time.time()\n",
    "print('vectorized loss: %e computed in %fs' % (loss_vectorized, toc - tic))\n",
    "\n",
    "# As we did for the SVM, we use the Frobenius norm to compare the two versions\n",
    "# of the gradient.\n",
    "grad_difference = np.linalg.norm(grad_naive - grad_vectorized, ord='fro')\n",
    "print('Loss difference: %f' % np.abs(loss_naive - loss_vectorized))\n",
    "print('Gradient difference: %f' % grad_difference)"
   ]
  },
  {
   "cell_type": "code",
   "execution_count": 15,
   "metadata": {},
   "outputs": [
    {
     "name": "stdout",
     "output_type": "stream",
     "text": [
      "iteration 0 / 1500: loss 392.686510\n",
      "iteration 100 / 1500: loss 237.552552\n",
      "iteration 200 / 1500: loss 144.283693\n",
      "iteration 300 / 1500: loss 88.051482\n",
      "iteration 400 / 1500: loss 54.098126\n",
      "iteration 500 / 1500: loss 33.438818\n",
      "iteration 600 / 1500: loss 21.068458\n",
      "iteration 700 / 1500: loss 13.559212\n",
      "iteration 800 / 1500: loss 8.981384\n",
      "iteration 900 / 1500: loss 6.223750\n",
      "iteration 1000 / 1500: loss 4.566003\n",
      "iteration 1100 / 1500: loss 3.573078\n",
      "iteration 1200 / 1500: loss 2.987587\n",
      "iteration 1300 / 1500: loss 2.594240\n",
      "iteration 1400 / 1500: loss 2.390488\n",
      "iteration 0 / 1500: loss 764.786964\n",
      "iteration 100 / 1500: loss 280.612957\n",
      "iteration 200 / 1500: loss 104.129360\n",
      "iteration 300 / 1500: loss 39.374373\n",
      "iteration 400 / 1500: loss 15.685688\n",
      "iteration 500 / 1500: loss 7.098310\n",
      "iteration 600 / 1500: loss 3.911004\n",
      "iteration 700 / 1500: loss 2.782488\n",
      "iteration 800 / 1500: loss 2.341967\n",
      "iteration 900 / 1500: loss 2.161797\n",
      "iteration 1000 / 1500: loss 2.121635\n",
      "iteration 1100 / 1500: loss 2.141315\n",
      "iteration 1200 / 1500: loss 2.071954\n",
      "iteration 1300 / 1500: loss 2.105854\n",
      "iteration 1400 / 1500: loss 2.060493\n",
      "iteration 0 / 1500: loss 394.523751\n",
      "iteration 100 / 1500: loss 33.248707\n",
      "iteration 200 / 1500: loss 4.561340\n",
      "iteration 300 / 1500: loss 2.277958\n",
      "iteration 400 / 1500: loss 2.069439\n",
      "iteration 500 / 1500: loss 1.969720\n",
      "iteration 600 / 1500: loss 2.029039\n",
      "iteration 700 / 1500: loss 2.010219\n",
      "iteration 800 / 1500: loss 2.044686\n",
      "iteration 900 / 1500: loss 2.011092\n",
      "iteration 1000 / 1500: loss 2.004310\n",
      "iteration 1100 / 1500: loss 2.111377\n",
      "iteration 1200 / 1500: loss 1.903856\n",
      "iteration 1300 / 1500: loss 2.074722\n",
      "iteration 1400 / 1500: loss 2.043439\n",
      "iteration 0 / 1500: loss 766.549343\n",
      "iteration 100 / 1500: loss 6.875345\n",
      "iteration 200 / 1500: loss 2.132924\n",
      "iteration 300 / 1500: loss 2.069204\n",
      "iteration 400 / 1500: loss 2.080733\n",
      "iteration 500 / 1500: loss 2.080373\n",
      "iteration 600 / 1500: loss 2.094061\n",
      "iteration 700 / 1500: loss 2.087019\n",
      "iteration 800 / 1500: loss 2.111818\n",
      "iteration 900 / 1500: loss 2.075327\n",
      "iteration 1000 / 1500: loss 2.111376\n",
      "iteration 1100 / 1500: loss 2.089328\n",
      "iteration 1200 / 1500: loss 2.071126\n",
      "iteration 1300 / 1500: loss 2.136578\n",
      "iteration 1400 / 1500: loss 2.090900\n",
      "lr 1.000000e-07 reg 2.500000e+04 train accuracy: 0.352714 val accuracy: 0.372000\n",
      "lr 1.000000e-07 reg 5.000000e+04 train accuracy: 0.330612 val accuracy: 0.347000\n",
      "lr 5.000000e-07 reg 2.500000e+04 train accuracy: 0.349816 val accuracy: 0.358000\n",
      "lr 5.000000e-07 reg 5.000000e+04 train accuracy: 0.329531 val accuracy: 0.338000\n",
      "best validation accuracy achieved during cross-validation: 0.372000\n"
     ]
    }
   ],
   "source": [
    "# Use the validation set to tune hyperparameters (regularization strength and\n",
    "# learning rate). You should experiment with different ranges for the learning\n",
    "# rates and regularization strengths; if you are careful you should be able to\n",
    "# get a classification accuracy of over 0.35 on the validation set.\n",
    "from cs231n.classifiers import Softmax\n",
    "results = {}\n",
    "best_val = -1\n",
    "best_softmax = None\n",
    "learning_rates = [1e-7, 5e-7]\n",
    "regularization_strengths = [2.5e4, 5e4]\n",
    "\n",
    "################################################################################\n",
    "# TODO:                                                                        #\n",
    "# Use the validation set to set the learning rate and regularization strength. #\n",
    "# This should be identical to the validation that you did for the SVM; save    #\n",
    "# the best trained softmax classifer in best_softmax.                          #\n",
    "################################################################################\n",
    "for rl in learning_rates:\n",
    "    for reg in regularization_strengths:\n",
    "        softmax = Softmax()\n",
    "        loss_hist = softmax.train(X_train, y_train, learning_rate=rl, reg=reg,\n",
    "                      num_iters=1500, verbose=True)\n",
    "        \n",
    "        y_train_pred = softmax.predict(X_train)\n",
    "        train_acc = np.mean(y_train == y_train_pred)\n",
    "        y_val_pred = softmax.predict(X_val)\n",
    "        acc = np.mean(y_val == y_val_pred)\n",
    "        if acc > best_val:\n",
    "            best_val = acc\n",
    "            best_softmax = softmax\n",
    "        results[(rl, reg)] = (train_acc, acc)\n",
    "################################################################################\n",
    "#                              END OF YOUR CODE                                #\n",
    "################################################################################\n",
    "    \n",
    "# Print out results.\n",
    "for lr, reg in sorted(results):\n",
    "    train_accuracy, val_accuracy = results[(lr, reg)]\n",
    "    print('lr %e reg %e train accuracy: %f val accuracy: %f' % (\n",
    "                lr, reg, train_accuracy, val_accuracy))\n",
    "    \n",
    "print('best validation accuracy achieved during cross-validation: %f' % best_val)"
   ]
  },
  {
   "cell_type": "code",
   "execution_count": 16,
   "metadata": {},
   "outputs": [
    {
     "name": "stdout",
     "output_type": "stream",
     "text": [
      "softmax on raw pixels final test set accuracy: 0.360000\n"
     ]
    }
   ],
   "source": [
    "# evaluate on test set\n",
    "# Evaluate the best softmax on test set\n",
    "y_test_pred = best_softmax.predict(X_test)\n",
    "test_accuracy = np.mean(y_test == y_test_pred)\n",
    "print('softmax on raw pixels final test set accuracy: %f' % (test_accuracy, ))"
   ]
  },
  {
   "cell_type": "code",
   "execution_count": 17,
   "metadata": {},
   "outputs": [
    {
     "data": {
      "image/png": "[encoded data removed]",
      "text/plain": [
       "<Figure size 432x288 with 10 Axes>"
      ]
     },
     "metadata": {},
     "output_type": "display_data"
    }
   ],
   "source": [
    "# Visualize the learned weights for each class\n",
    "w = best_softmax.W[:-1,:] # strip out the bias\n",
    "w = w.reshape(32, 32, 3, 10)\n",
    "\n",
    "w_min, w_max = np.min(w), np.max(w)\n",
    "\n",
    "classes = ['plane', 'car', 'bird', 'cat', 'deer', 'dog', 'frog', 'horse', 'ship', 'truck']\n",
    "for i in range(10):\n",
    "    plt.subplot(2, 5, i + 1)\n",
    "    \n",
    "    # Rescale the weights to be between 0 and 255\n",
    "    wimg = 255.0 * (w[:, :, :, i].squeeze() - w_min) / (w_max - w_min)\n",
    "    plt.imshow(wimg.astype('uint8'))\n",
    "    plt.axis('off')\n",
    "    plt.title(classes[i])"
   ]
  },
  {
   "cell_type": "code",
   "execution_count": null,
   "metadata": {},
   "outputs": [],
   "source": []
  }
 ],
 "metadata": {
  "kernelspec": {
   "display_name": "Python 3",
   "language": "python",
   "name": "python3"
  },
  "language_info": {
   "codemirror_mode": {
    "name": "ipython",
    "version": 3
   },
   "file_extension": ".py",
   "mimetype": "text/x-python",
   "name": "python",
   "nbconvert_exporter": "python",
   "pygments_lexer": "ipython3",
   "version": "3.6.5"
  }
 },
 "nbformat": 4,
 "nbformat_minor": 1
}
